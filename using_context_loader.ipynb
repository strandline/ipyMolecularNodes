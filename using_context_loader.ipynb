{
 "cells": [
  {
   "cell_type": "code",
   "execution_count": 1,
   "metadata": {},
   "outputs": [
    {
     "name": "stdout",
     "output_type": "stream",
     "text": [
      "Finsihed opening molecule after 0.546875 seconds\n",
      "Adding object to scene.\n",
      "Added res_id after 0.0 s\n",
      "Added res_name after 0.015625 s\n",
      "Added atomic_number after 0.0 s\n",
      "Added b_factor after 0.0 s\n",
      "Added vdw_radii after 0.0 s\n",
      "Added chain_id after 0.0 s\n",
      "Added entity_id after 0.0 s\n",
      "Added atom_name after 0.0 s\n",
      "Added lipophobicity after 0.0 s\n",
      "Added charge after 0.0 s\n",
      "Added is_backbone after 0.0 s\n",
      "Added is_alpha_carbon after 0.0 s\n",
      "Added is_solvent after 0.0 s\n",
      "Added is_nucleic after 0.0 s\n",
      "Added is_peptide after 0.0 s\n",
      "Added is_hetero after 0.0 s\n",
      "Added is_carb after 0.0 s\n",
      "Added sec_struct after 0.0 s\n",
      "Finsihed add object after 0.015625 seconds\n"
     ]
    },
    {
     "data": {
      "image/jpeg": "[encoded data removed]",
      "text/plain": [
       "<IPython.core.display.Image object>"
      ]
     },
     "execution_count": 1,
     "metadata": {},
     "output_type": "execute_result"
    }
   ],
   "source": [
    "import bpy\n",
    "import tempfile\n",
    "from math import pi\n",
    "\n",
    "def generate():\n",
    "\n",
    "    for obj in bpy.context.scene.objects:\n",
    "      if obj.type == 'MESH':\n",
    "          bpy.data.objects.remove(obj, do_unlink=True)\n",
    "\n",
    "\n",
    "    import molecularnodes as mn\n",
    "    molecule = mn.load.molecule_rcsb(\"7TYG\", starting_style=\"cartoon\", center_molecule=True)\n",
    "    molecule.select_set(True)\n",
    "\n",
    "    bpy.ops.view3d.camera_to_view_selected()\n",
    "    camera = bpy.data.objects[\"Camera\"]\n",
    "    camera.data.dof.use_dof = True\n",
    "    camera.data.dof.focus_distance = 5\n",
    "    camera.data.dof.aperture_fstop = 4\n",
    "    camera.data.angle = pi / 3\n",
    "    camera.data.type = \"PERSP\"\n",
    "\n",
    "    with tempfile.NamedTemporaryFile(suffix=\".JPEG\", delete=False) as f:\n",
    "        bpy.context.scene.render.resolution_y = 288\n",
    "        bpy.context.scene.render.resolution_x = 512\n",
    "        bpy.context.scene.render.image_settings.file_format = \"JPEG\"\n",
    "        bpy.context.scene.render.filepath = f.name\n",
    "        bpy.context.scene.frame_set(1)\n",
    "        bpy.context.scene.frame_current = 1\n",
    "        bpy.ops.render.render(animation=False, write_still=True)\n",
    "\n",
    "        bpy.data.images[\"Render Result\"].save_render(\n",
    "            filepath=bpy.context.scene.render.filepath\n",
    "        )\n",
    "        bpy.app.handlers.render_stats.clear()\n",
    "        return f.name\n",
    "\n",
    "\n",
    "from IPython.display import Image\n",
    "Image(generate())"
   ]
  },
  {
   "cell_type": "code",
   "execution_count": 3,
   "metadata": {},
   "outputs": [],
   "source": [
    "import sys\n",
    "import os\n",
    "\n",
    "sys.stdout = open(os.devnull, 'w')\n",
    "sys.stderr = open(os.devnull, 'w')"
   ]
  }
 ],
 "metadata": {
  "kernelspec": {
   "display_name": ".venv",
   "language": "python",
   "name": "python3"
  },
  "language_info": {
   "codemirror_mode": {
    "name": "ipython",
    "version": 3
   },
   "file_extension": ".py",
   "mimetype": "text/x-python",
   "name": "python",
   "nbconvert_exporter": "python",
   "pygments_lexer": "ipython3",
   "version": "3.10.11"
  },
  "orig_nbformat": 4
 },
 "nbformat": 4,
 "nbformat_minor": 2
}
